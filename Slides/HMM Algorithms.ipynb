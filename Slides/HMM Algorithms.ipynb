{
 "cells": [
  {
   "cell_type": "code",
   "execution_count": 1,
   "metadata": {},
   "outputs": [],
   "source": [
    "import numpy as np"
   ]
  },
  {
   "cell_type": "code",
   "execution_count": 22,
   "metadata": {},
   "outputs": [],
   "source": [
    "## We have two dies A and B \n",
    "# transaction pro \n",
    "pab = 0.2\n",
    "pba = 0.2\n",
    "paa = 0.8\n",
    "pbb = 0.8\n",
    "\n",
    "## initial probability \n",
    "pia = 0.3\n",
    "pib = 0.7\n",
    "\n",
    "## emission pro \n",
    "pa1 = .3\n",
    "pa2 = .2\n",
    "pa3 = .2\n",
    "pa4 = .1\n",
    "pa5 = .1\n",
    "pa6 = .1\n",
    "\n",
    "pb1 = .1\n",
    "pb2 = .1\n",
    "pb3 = .1\n",
    "pb4 = .2\n",
    "pb5 = .2\n",
    "pb6 = .3\n"
   ]
  },
  {
   "cell_type": "code",
   "execution_count": 23,
   "metadata": {},
   "outputs": [],
   "source": [
    "numbers = [5,1,1,1]\n",
    "probabilities = []\n",
    "dies = []"
   ]
  },
  {
   "cell_type": "code",
   "execution_count": 24,
   "metadata": {},
   "outputs": [],
   "source": [
    "if numbers[0] == 1:\n",
    "    probabilities.append((pia*pa1, pib*pb1))\n",
    "elif numbers[0] == 2:\n",
    "    probabilities.append((pia*pa2, pib*pb2))\n",
    "elif numbers[0] == 3:\n",
    "    probabilities.append((pia*pa3, pib*pb3))\n",
    "elif numbers[0] == 4:\n",
    "    probabilities.append((pia*pa4, pib*pb4))\n",
    "elif numbers[0] == 5:\n",
    "    probabilities.append((pia*pa5, pib*pb5))\n",
    "elif numbers[0] == 6:\n",
    "    probabilities.append((pia*pa6, pib*pb6))\n",
    "    "
   ]
  },
  {
   "cell_type": "code",
   "execution_count": 25,
   "metadata": {},
   "outputs": [
    {
     "data": {
      "text/plain": [
       "[(0.03, 0.13999999999999999)]"
      ]
     },
     "execution_count": 25,
     "metadata": {},
     "output_type": "execute_result"
    }
   ],
   "source": [
    "probabilities"
   ]
  },
  {
   "cell_type": "code",
   "execution_count": 26,
   "metadata": {},
   "outputs": [],
   "source": [
    "for n in range(1,len(numbers)):\n",
    "    lasta,lastb = probabilities[-1]\n",
    "    if numbers[n] == 1:\n",
    "        ta = max(lasta*paa*pa1, lastb*pba*pb1)\n",
    "        tb = max(lastb*pbb*pb1, lasta*pab*pb1)\n",
    "        probabilities.append((ta, tb))\n",
    "        \n",
    "    elif numbers[n] == 2:\n",
    "        ta = max(lasta*paa*pa2, lastb*pba*pb2)\n",
    "        tb = max(lastb*pbb*pb2, lasta*pab*pb2)\n",
    "        probabilities.append((ta, tb))\n",
    "        \n",
    "    elif numbers[n] == 3:\n",
    "        ta = max(lasta*paa*pa3, lastb*pba*pb3)\n",
    "        tb = max(lastb*pbb*pb3, lasta*pab*pb3)\n",
    "        probabilities.append((ta, tb))\n",
    "        \n",
    "    elif numbers[n] == 4:\n",
    "        ta = max(lasta*paa*pa4, lastb*pba*pb4)\n",
    "        tb = max(lastb*pbb*pb4, lasta*pab*pb4)\n",
    "        probabilities.append((ta, tb))\n",
    "        \n",
    "    elif numbers[n] == 5:\n",
    "        ta = max(lasta*paa*pa5, lastb*pba*pb5)\n",
    "        tb = max(lastb*pbb*pb5, lasta*pab*pb5)\n",
    "        probabilities.append((ta, tb))\n",
    "        \n",
    "    elif numbers[n] == 6:\n",
    "        ta = max(lasta*paa*pa6, lastb*pba*pb6)\n",
    "        tb = max(lastb*pbb*pb6, lasta*pab*pb6)\n",
    "        probabilities.append((ta, tb))\n",
    "for p in probabilities:\n",
    "    if p[0] > p[1]:\n",
    "        dies.append('A')\n",
    "    else:\n",
    "        dies.append('B')\n",
    "\n",
    "    \n"
   ]
  },
  {
   "cell_type": "code",
   "execution_count": 27,
   "metadata": {},
   "outputs": [
    {
     "data": {
      "text/plain": [
       "[(0.03, 0.13999999999999999),\n",
       " (0.0072, 0.0112),\n",
       " (0.0017280000000000002, 0.0008960000000000001),\n",
       " (0.00041472000000000004, 7.168e-05)]"
      ]
     },
     "execution_count": 27,
     "metadata": {},
     "output_type": "execute_result"
    }
   ],
   "source": [
    "probabilities"
   ]
  },
  {
   "cell_type": "code",
   "execution_count": 28,
   "metadata": {},
   "outputs": [
    {
     "data": {
      "text/plain": [
       "['B', 'B', 'A', 'A']"
      ]
     },
     "execution_count": 28,
     "metadata": {},
     "output_type": "execute_result"
    }
   ],
   "source": [
    "dies"
   ]
  },
  {
   "cell_type": "code",
   "execution_count": null,
   "metadata": {},
   "outputs": [],
   "source": []
  }
 ],
 "metadata": {
  "kernelspec": {
   "display_name": "Python 3",
   "language": "python",
   "name": "python3"
  },
  "language_info": {
   "codemirror_mode": {
    "name": "ipython",
    "version": 3
   },
   "file_extension": ".py",
   "mimetype": "text/x-python",
   "name": "python",
   "nbconvert_exporter": "python",
   "pygments_lexer": "ipython3",
   "version": "3.6.8"
  }
 },
 "nbformat": 4,
 "nbformat_minor": 2
}
