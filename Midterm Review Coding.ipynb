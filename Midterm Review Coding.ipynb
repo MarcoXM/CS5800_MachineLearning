{
 "cells": [
  {
   "cell_type": "code",
   "execution_count": 2,
   "metadata": {},
   "outputs": [],
   "source": [
    "import numpy as np\n",
    "import matplotlib.pyplot as plt\n",
    "from matplotlib import animation\n",
    "%notebook inline"
   ]
  },
  {
   "cell_type": "markdown",
   "metadata": {},
   "source": [
    "## Perceptron"
   ]
  },
  {
   "cell_type": "code",
   "execution_count": 3,
   "metadata": {},
   "outputs": [],
   "source": [
    "X = np.random.random(500).reshape(100,5)*100\n",
    "y = np.random.randint(2,size=100)\n",
    "y[y == 0] = -1\n",
    "W = np.zeros(101)\n",
    "history = []"
   ]
  },
  {
   "cell_type": "code",
   "execution_count": 4,
   "metadata": {},
   "outputs": [
    {
     "data": {
      "text/plain": [
       "False"
      ]
     },
     "execution_count": 4,
     "metadata": {},
     "output_type": "execute_result"
    }
   ],
   "source": [
    "def sig(number):\n",
    "    if number > 0 :\n",
    "        label = 1.0\n",
    "    elif number < 0 :\n",
    "        label = -1.0\n",
    "    else :\n",
    "        label = 0.\n",
    "    return label\n",
    "sig(-200) == y[0]"
   ]
  },
  {
   "cell_type": "code",
   "execution_count": 5,
   "metadata": {},
   "outputs": [],
   "source": [
    "#Perceptron with regulization\n",
    "def getting_parameter(x,y,iters,learning_rate):\n",
    "    \"\"\"\n",
    "    update parameters using stochastic gradient descent\n",
    "    :param item: an item which is classified into wrong class\n",
    "    :return: nothing\n",
    "    \"\"\"\n",
    "    w = np.zeros(int(x.shape[1])+1)\n",
    "    for iter_ in range(iters):\n",
    "        for i in range(x.shape[0]):\n",
    "            if sig(np.append(x[i],1.0).dot(w)) != y[i]:\n",
    "                w = w + (np.append(x[i],1.0) * float(y[i])) * learning_rate\n",
    "    return w\n"
   ]
  },
  {
   "cell_type": "code",
   "execution_count": 6,
   "metadata": {},
   "outputs": [
    {
     "data": {
      "text/plain": [
       "array([ 0.10753689, -0.01842219,  0.02196512,  0.09718268, -0.01630277,\n",
       "       -0.324     ])"
      ]
     },
     "execution_count": 6,
     "metadata": {},
     "output_type": "execute_result"
    }
   ],
   "source": [
    "getting_parameter(X,y,iters=1000,learning_rate=.001)"
   ]
  },
  {
   "cell_type": "markdown",
   "metadata": {},
   "source": [
    "## Naive Bayes"
   ]
  },
  {
   "cell_type": "code",
   "execution_count": 7,
   "metadata": {},
   "outputs": [],
   "source": [
    "from math import log, exp # for probability calculation"
   ]
  },
  {
   "cell_type": "code",
   "execution_count": 8,
   "metadata": {},
   "outputs": [],
   "source": [
    "class LaplaceEstimate(object): # a counter to get the number of the words happened in list of words\n",
    "    \"\"\"\n",
    "    one of the smoothing method\n",
    "    \"\"\"\n",
    "    def __init__(self):\n",
    "        self.d = {}  # a dictionary that key : word and value :the frequency\n",
    "        self.total = 0.0  # initial total should be 0\n",
    "        self.none = 1  # when we cannot find a word in our dict, the value of it should be 1\n",
    " \n",
    "    def exists(self, key):\n",
    "        return key in self.d\n",
    " \n",
    "    def getsum(self):\n",
    "        return self.total # return the total value \n",
    " \n",
    "    def get(self, key): # getting the frequency value\n",
    "        if not self.exists(key):\n",
    "            return False, self.none # if we dont the word \n",
    "        return True, self.d[key]\n",
    " \n",
    "    def getprob(self, key):\n",
    "        \"\"\"\n",
    "        How many times the word shows up and how many times about the whole words show up\n",
    "        \"\"\"\n",
    "        return float(self.get(key)[1]) / self.total # cuz in get, will return two variables as return\n",
    " \n",
    "    def samples(self):\n",
    "        \"\"\"\n",
    "        getting the words \n",
    "        \"\"\"\n",
    "        return self.d.keys()\n",
    " \n",
    "    def add(self, key, value):\n",
    "        \n",
    "        if not self.exists(key):\n",
    "            self.d[key] = 1\n",
    "            self.total += 1\n",
    "        else:\n",
    "            self.d[key] += value\n",
    "            self.total += value"
   ]
  },
  {
   "cell_type": "code",
   "execution_count": 9,
   "metadata": {},
   "outputs": [],
   "source": [
    "class Bayes(object):\n",
    "    def __init__(self):\n",
    "        self.d = {}  # a dict of word and related prob\n",
    "        self.total = 0  # \n",
    " \n",
    " \n",
    "    def train(self, data):\n",
    "        for d in data:  # d is a tuple [[words], tag]\n",
    "            class_ = d[1]  # c:pos or neg\n",
    "            if class_ not in self.d:\n",
    "                self.d[class_] = LaplaceEstimate()  # d[c]\n",
    "            for word in d[0]:\n",
    "                self.d[class_].add(word, 1)  # \n",
    "        self.total = sum(map(lambda x: self.d[x].getsum(), self.d.keys()))\n",
    " \n",
    "    def classify(self, x): #comparing the prob neg or pos\n",
    "        tmp = {}\n",
    "        for class_ in self.d:  # class\n",
    "            tmp[class_] = log(self.d[class_].getsum()) - log(self.total)  # P(Y=ck)\n",
    "            for word in x:\n",
    "                tmp[class_] += log(self.d[class_].getprob(word))          # P(Xj=xj | Y=ck) log \n",
    "        ret, prob = 0, 0\n",
    "        for class_ in self.d:\n",
    "            now = 0\n",
    "            try:\n",
    "                for otherc in self.d:\n",
    "                    now += exp(tmp[otherc] - tmp[class_])            # transform log into prob\n",
    "                now = 1 / now\n",
    "            except OverflowError:\n",
    "                now = 0\n",
    "            if now > prob:\n",
    "                ret, prob = class_, now\n",
    "        return (ret, prob)"
   ]
  },
  {
   "cell_type": "code",
   "execution_count": 10,
   "metadata": {},
   "outputs": [],
   "source": [
    "class Sentiment(object):\n",
    "    def __init__(self):\n",
    "        self.classifier = Bayes()\n",
    " \n",
    "    def segment(self, sent):\n",
    "        words = sent.split(' ')\n",
    "        return words\n",
    " \n",
    "    def train(self, neg_docs, pos_docs):\n",
    "        data = []\n",
    "        for sent in neg_docs:\n",
    "            data.append([self.segment(sent), 'neg'])\n",
    "        for sent in pos_docs:\n",
    "            data.append([self.segment(sent), 'pos'])\n",
    "        self.classifier.train(data)\n",
    " \n",
    "    def classify(self, sent):\n",
    " \n",
    "        return self.classifier.classify(self.segment(sent))\n",
    " \n",
    "s = Sentiment()"
   ]
  },
  {
   "cell_type": "code",
   "execution_count": 11,
   "metadata": {},
   "outputs": [],
   "source": [
    "s.train(['bad shit suck'], ['excellent very good'])"
   ]
  },
  {
   "cell_type": "code",
   "execution_count": 12,
   "metadata": {},
   "outputs": [
    {
     "name": "stdout",
     "output_type": "stream",
     "text": [
      "('neg', 0.5)\n"
     ]
    }
   ],
   "source": [
    "print(s.classify(\"very shit\"))"
   ]
  },
  {
   "cell_type": "markdown",
   "metadata": {},
   "source": [
    "## Logistic regression"
   ]
  },
  {
   "cell_type": "code",
   "execution_count": 27,
   "metadata": {},
   "outputs": [
    {
     "data": {
      "image/png": "[encoded data removed]",
      "text/plain": [
       "<Figure size 720x576 with 1 Axes>"
      ]
     },
     "metadata": {
      "needs_background": "light"
     },
     "output_type": "display_data"
    }
   ],
   "source": [
    "from matplotlib import pyplot as plt\n",
    "from matplotlib import animation\n",
    "from numpy import *\n",
    " \n",
    "def loadDataSet():\n",
    "    \"\"\"\n",
    "    \n",
    "    \"\"\"\n",
    "    import pandas as pd\n",
    "    df = pd.read_csv('testSet.txt',sep='\\t',header= None)\n",
    "    \n",
    "    X,y = df.drop(2,axis =1).values,df[2].values\n",
    "    return X,y\n",
    " \n",
    "def sigmoid(inX):\n",
    "    return 1.0/(1+exp(-inX))\n",
    " \n",
    "def gradAscent(dataMatIn, classLabels, history_weight):\n",
    "    \"\"\"\n",
    "    \"\"\"\n",
    "    dataMatrix = np.mat(dataMatIn)            \n",
    "    labelMat = np.mat(classLabels).T \n",
    "    m,n = dataMatrix.shape                 \n",
    "    alpha = 0.001                           \n",
    "    iters = 500\n",
    "    weights = np.ones((n,1))\n",
    "    for k in range(iters):              #iteration\n",
    "        h = sigmoid(dataMatrix*weights)     \n",
    "        error = (labelMat - h)              \n",
    "        weights += alpha * dataMatrix.transpose() * error  \n",
    "        history_weight.append(weights.copy())\n",
    "    return weights\n",
    " \n",
    "history_weight = []\n",
    "dataMat,labelMat=loadDataSet()\n",
    "gradAscent(dataMat, labelMat, history_weight)\n",
    "\n",
    "# Plotting\n",
    "fig = plt.figure(figsize=(10,8))\n",
    "currentAxis = plt.gca()\n",
    "ax = fig.add_subplot(111)\n",
    "xdata, ydata = [], []\n",
    "line, = ax.plot([], [], 'b', lw=2)\n",
    " \n",
    "def draw_line(weights):\n",
    "    x = arange(-5.0, 5.0, 0.1)\n",
    "    y = (-weights[0]-weights[1]*x)/weights[2]  \n",
    "    line.set_data(x, y)\n",
    "    return line,\n",
    " \n",
    "# initialization function: plot the background of each frame\n",
    "def init():\n",
    "    dataArr = dataMat\n",
    "    n = dataArr.shape[0]\n",
    "    xcord1 = []; ycord1 = []\n",
    "    xcord2 = []; ycord2 = []\n",
    "    for i in range(n):\n",
    "        if int(labelMat[i])== 1:\n",
    "            xcord1.append(dataArr[i,0]); ycord1.append(dataArr[i,1])\n",
    "        else:\n",
    "            xcord2.append(dataArr[i,0]); ycord2.append(dataArr[i,1])\n",
    "    ax = fig.add_subplot(111)\n",
    "    ax.scatter(xcord1, ycord1, s=30, c='red', marker='s')\n",
    "    ax.scatter(xcord2, ycord2, s=30, c='green')\n",
    "    plt.xlabel('X1')\n",
    "    plt.ylabel('X2')\n",
    " \n",
    "    return draw_line(np.ones((n,1)))\n",
    " \n",
    "# animation function.  this is called sequentially\n",
    "def update(i):\n",
    "    return draw_line(history_weight[i])\n",
    " \n",
    "\n",
    "anim = animation.FuncAnimation(fig, update, init_func=init, frames=len(history_weight), interval=10, repeat=False,\n",
    "                               blit=True)\n",
    "plt.show()"
   ]
  },
  {
   "cell_type": "code",
   "execution_count": null,
   "metadata": {},
   "outputs": [],
   "source": []
  },
  {
   "cell_type": "code",
   "execution_count": null,
   "metadata": {},
   "outputs": [],
   "source": []
  },
  {
   "cell_type": "code",
   "execution_count": null,
   "metadata": {},
   "outputs": [],
   "source": []
  }
 ],
 "metadata": {
  "kernelspec": {
   "display_name": "Python 3",
   "language": "python",
   "name": "python3"
  },
  "language_info": {
   "codemirror_mode": {
    "name": "ipython",
    "version": 3
   },
   "file_extension": ".py",
   "mimetype": "text/x-python",
   "name": "python",
   "nbconvert_exporter": "python",
   "pygments_lexer": "ipython3",
   "version": "3.6.8"
  }
 },
 "nbformat": 4,
 "nbformat_minor": 2
}
