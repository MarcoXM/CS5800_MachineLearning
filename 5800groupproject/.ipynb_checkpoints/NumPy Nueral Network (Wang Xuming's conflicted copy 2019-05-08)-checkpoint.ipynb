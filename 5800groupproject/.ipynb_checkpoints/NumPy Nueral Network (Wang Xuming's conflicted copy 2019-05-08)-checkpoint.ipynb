{
 "cells": [
  {
   "cell_type": "code",
   "execution_count": 482,
   "metadata": {},
   "outputs": [
    {
     "name": "stdout",
     "output_type": "stream",
     "text": [
      "Original dataset shape Counter({1: 900, 0: 100})\n",
      "Resampled dataset shape Counter({0: 900, 1: 900})\n"
     ]
    },
    {
     "data": {
      "text/plain": [
       "(80, 1)"
      ]
     },
     "execution_count": 482,
     "metadata": {},
     "output_type": "execute_result"
    }
   ],
   "source": [
    "from collections import Counter\n",
    "from sklearn.datasets import make_classification\n",
    "from imblearn.over_sampling import SMOTE # doctest: +NORMALIZE_WHITESPACE\n",
    "X, y = make_classification(n_classes=2, class_sep=2,\n",
    "weights=[0.1, 0.9], n_informative=3, n_redundant=1, flip_y=0,\n",
    "n_features=20, n_clusters_per_class=1, n_samples=1000, random_state=10)\n",
    "print('Original dataset shape %s' % Counter(y))\n",
    "\n",
    "sm = SMOTE(random_state=42)\n",
    "X_res, y_res = sm.fit_resample(X, y)\n",
    "print('Resampled dataset shape %s' % Counter(y_res))\n",
    "y_train.shape"
   ]
  },
  {
   "cell_type": "code",
   "execution_count": 483,
   "metadata": {},
   "outputs": [],
   "source": [
    "import numpy as np\n",
    "import pandas as pd\n",
    "from sklearn.preprocessing import StandardScaler\n",
    "from imblearn.over_sampling import SMOTE\n",
    "from collections import Counter\n",
    "from sklearn.metrics import confusion_matrix\n",
    "from sklearn.metrics import classification_report"
   ]
  },
  {
   "cell_type": "code",
   "execution_count": 484,
   "metadata": {},
   "outputs": [
    {
     "name": "stderr",
     "output_type": "stream",
     "text": [
      "/Users/marcowang/anaconda3/lib/python3.6/site-packages/sklearn/utils/validation.py:595: DataConversionWarning: Data with input dtype int64 was converted to float64 by StandardScaler.\n",
      "  warnings.warn(msg, DataConversionWarning)\n",
      "/Users/marcowang/anaconda3/lib/python3.6/site-packages/sklearn/utils/validation.py:595: DataConversionWarning: Data with input dtype int64 was converted to float64 by StandardScaler.\n",
      "  warnings.warn(msg, DataConversionWarning)\n"
     ]
    }
   ],
   "source": [
    "col = ['target','F1R','F1S','F2R','F2S','F3R','F3S','F4R','F4S','F5R','F5S','F6R','F6S','F7R','F7S','F8R','F8S','F9R','F9S','F10R','F10S',\n",
    "      'F11R','F11S','F12R','F12S','F13R','F13S','F14R','F14S','F15R','F15S','F16R','F16S','F17R','F17S','F18R','F18S',\n",
    "      'F19R','F19S','F20R','F20S','F21R','F21S','F22R','F22S']\n",
    "\n",
    "train = pd.read_csv('data/SPECTF_train.csv', header=None, low_memory=False,names = col,)\n",
    "train.head()\n",
    "test = pd.read_csv('data/SPECTF_test.csv', header=None, low_memory=False,names = col)\n",
    "\n",
    "import numpy as np\n",
    "scaler = StandardScaler()\n",
    "y_train = train['target'].values.reshape(-1,1)\n",
    "X = train.drop('target',axis = 1).values\n",
    "test_y = test['target'].values.reshape(-1,1)\n",
    "test_x = test.drop('target',axis = 1).values\n",
    "X_std = scaler.fit_transform(X)\n"
   ]
  },
  {
   "cell_type": "code",
   "execution_count": 485,
   "metadata": {},
   "outputs": [
    {
     "name": "stderr",
     "output_type": "stream",
     "text": [
      "/Users/marcowang/anaconda3/lib/python3.6/site-packages/sklearn/utils/validation.py:761: DataConversionWarning: A column-vector y was passed when a 1d array was expected. Please change the shape of y to (n_samples, ), for example using ravel().\n",
      "  y = column_or_1d(y, warn=True)\n"
     ]
    },
    {
     "data": {
      "text/plain": [
       "(80, 44)"
      ]
     },
     "execution_count": 485,
     "metadata": {},
     "output_type": "execute_result"
    }
   ],
   "source": [
    "X_b,y_b = sm.fit_resample(X_std, y_train)\n",
    "\n",
    "X_b.shape"
   ]
  },
  {
   "cell_type": "code",
   "execution_count": 486,
   "metadata": {},
   "outputs": [
    {
     "data": {
      "text/plain": [
       "(1, 1)"
      ]
     },
     "execution_count": 486,
     "metadata": {},
     "output_type": "execute_result"
    }
   ],
   "source": [
    "np.array([[1]]).shape"
   ]
  },
  {
   "cell_type": "code",
   "execution_count": 487,
   "metadata": {},
   "outputs": [
    {
     "ename": "NameError",
     "evalue": "name 'nn' is not defined",
     "output_type": "error",
     "traceback": [
      "\u001b[0;31m---------------------------------------------------------------------------\u001b[0m",
      "\u001b[0;31mNameError\u001b[0m                                 Traceback (most recent call last)",
      "\u001b[0;32m<ipython-input-487-634f77e5af6e>\u001b[0m in \u001b[0;36m<module>\u001b[0;34m\u001b[0m\n\u001b[0;32m----> 1\u001b[0;31m \u001b[0mX_std\u001b[0m\u001b[0;34m.\u001b[0m\u001b[0mdot\u001b[0m\u001b[0;34m(\u001b[0m\u001b[0mnn\u001b[0m\u001b[0;34m.\u001b[0m\u001b[0mweights\u001b[0m\u001b[0;34m.\u001b[0m\u001b[0mshape\u001b[0m\u001b[0;34m)\u001b[0m\u001b[0;34m\u001b[0m\u001b[0;34m\u001b[0m\u001b[0m\n\u001b[0m",
      "\u001b[0;31mNameError\u001b[0m: name 'nn' is not defined"
     ]
    }
   ],
   "source": [
    "X_std.dot(nn.weights.shape)"
   ]
  },
  {
   "cell_type": "code",
   "execution_count": 488,
   "metadata": {},
   "outputs": [],
   "source": [
    "# Activation Function\n",
    "def sigmoid(Z):\n",
    "    return 1/(1+np.exp(-Z))\n",
    "\n",
    "def relu(Z):\n",
    "    z = Z[:]\n",
    "    z[z<0] = 0\n",
    "    return z\n",
    "\n",
    "def sigmoid_backward(sig):\n",
    "    return (sig * (1 - sig))\n",
    "\n",
    "def relu_backward(Z):\n",
    "    dZ = Z.copy()\n",
    "    dZ[dZ > 0] = 1\n",
    "\n",
    "    return dZ;\n",
    "\n",
    "def step(Z):\n",
    "    Z[Z>=0] = 1\n",
    "    Z[Z<0] = 0\n",
    "    return Z\n",
    "\n",
    "\n",
    "def tanh(Z):\n",
    "    return (np.exp(2*Z) -1)/(np.exp(2*Z) +1)\n",
    "\n",
    "def tanh_backward(tan):\n",
    "    return (1 - tan**2)\n",
    "class NN(object):\n",
    "    def __init__(self, n_input, n_output,actfun = 'sigmoid'):\n",
    "        np.random.seed(1224)\n",
    "        self.weights = np.random.randn(n_input,n_output)*0.1\n",
    "        self.bias = np.random.randn(n_output,1) * 0.1\n",
    "        self.activation = actfun\n",
    "        \n",
    "        \n",
    "    # Computing the ouput of the neurons\n",
    "    def forward(self,inputx):\n",
    "        if self.activation == 'sigmoid':\n",
    "            return sigmoid(np.dot(inputx,self.weights) + self.bias)\n",
    "        \n",
    "        if self.activation == 'step':\n",
    "            return step(np.dot(inputx,self.weights)+ self.bias)\n",
    "        \n",
    "        if self.activation == 'tanh':\n",
    "            return tanh(np.dot(inputx,self.weights)+ self.bias)\n",
    "        \n",
    "        if self.activation == 'relu':\n",
    "            return relu(np.dot(inputx,self.weights)+ self.bias) \n",
    "        \n",
    "    def loss(self,X_train,y_train):\n",
    "        self.output = self.forward(X_train)\n",
    "        #print(self.output.shape)\n",
    "        self.error = y_train - self.output\n",
    "        return np.mean(self.error**2)\n",
    "    \n",
    "    def backward(self,X_train, y_train,learnrate):\n",
    "        if self.activation == 'sigmoid':\n",
    "            self.weights += np.sum(learnrate * self.error * sigmoid_backward(X_train,self.output),axis =0).reshape(-1,1)\n",
    "            self.bias += np.sum(learnrate * self.error * sigmoid_backward(1,self.output))\n",
    "  \n",
    "       # if self.activation == 'step':\n",
    "           # self.weights += np.sum(learnrate * self.error * sigmoid_backward(X_train,self.output),axis =0).reshape(-1,1)\n",
    "          #  self.bias += np.sum(learnrate * self.error * sigmoid_backward(1,self.output))\n",
    "\n",
    "        if self.activation == 'tanh':\n",
    "            self.weights += np.sum(learnrate * self.error * tanh_backward(X_train,self.output),axis =0).reshape(-1,1)\n",
    "            self.bias += np.sum(learnrate * self.error * tanh_backward(1,self.output))\n",
    "            \n",
    "        if self.activation == 'relu':\n",
    "            self.weights += np.sum(learnrate * self.error * relu_backward(X_train,self.output),axis =0).reshape(-1,1)\n",
    "            self.bias += np.sum(learnrate * self.error * relu_backward(1,self.output))\n",
    "            \n",
    "    def train(self,X_train,y_train,learnrate, iteration = 100):\n",
    "        for i in range(iteration):\n",
    "            self.loss(X_train,y_train)\n",
    "            self.backward(X_train,y_train,learnrate)\n",
    "            \n",
    "    def preidict(self,X,y):\n",
    "        y_pre = step(self.forward(X))\n",
    "        acc = list(y-y_pre)\n",
    "        return acc.count(0)/len(acc)\n",
    "        "
   ]
  },
  {
   "cell_type": "code",
   "execution_count": 489,
   "metadata": {},
   "outputs": [
    {
     "data": {
      "text/plain": [
       "(80, 1)"
      ]
     },
     "execution_count": 489,
     "metadata": {},
     "output_type": "execute_result"
    }
   ],
   "source": [
    "nn3 = NN(44,1,actfun='tanh')\n",
    "out = nn3.forward(X_std)\n",
    "error=y_train - out\n",
    "error.shape"
   ]
  },
  {
   "cell_type": "code",
   "execution_count": 490,
   "metadata": {},
   "outputs": [
    {
     "ename": "NameError",
     "evalue": "name 'c' is not defined",
     "output_type": "error",
     "traceback": [
      "\u001b[0;31m---------------------------------------------------------------------------\u001b[0m",
      "\u001b[0;31mNameError\u001b[0m                                 Traceback (most recent call last)",
      "\u001b[0;32m<ipython-input-490-9925583da9fa>\u001b[0m in \u001b[0;36m<module>\u001b[0;34m\u001b[0m\n\u001b[0;32m----> 1\u001b[0;31m \u001b[0;34m(\u001b[0m\u001b[0merror\u001b[0m\u001b[0;34m*\u001b[0m\u001b[0mtanh_backward\u001b[0m\u001b[0;34m(\u001b[0m\u001b[0mX_std\u001b[0m\u001b[0;34m,\u001b[0m\u001b[0mc\u001b[0m\u001b[0;34m)\u001b[0m\u001b[0;34m*\u001b[0m\u001b[0;36m0.001\u001b[0m\u001b[0;34m)\u001b[0m\u001b[0;34m.\u001b[0m\u001b[0mshape\u001b[0m\u001b[0;34m\u001b[0m\u001b[0;34m\u001b[0m\u001b[0m\n\u001b[0m",
      "\u001b[0;31mNameError\u001b[0m: name 'c' is not defined"
     ]
    }
   ],
   "source": [
    "(error*tanh_backward(X_std,c)*0.001).shape"
   ]
  },
  {
   "cell_type": "code",
   "execution_count": 491,
   "metadata": {},
   "outputs": [
    {
     "data": {
      "text/plain": [
       "'tanh'"
      ]
     },
     "execution_count": 491,
     "metadata": {},
     "output_type": "execute_result"
    }
   ],
   "source": [
    "nn3.activation"
   ]
  },
  {
   "cell_type": "code",
   "execution_count": 492,
   "metadata": {},
   "outputs": [
    {
     "ename": "NameError",
     "evalue": "name 'nn' is not defined",
     "output_type": "error",
     "traceback": [
      "\u001b[0;31m---------------------------------------------------------------------------\u001b[0m",
      "\u001b[0;31mNameError\u001b[0m                                 Traceback (most recent call last)",
      "\u001b[0;32m<ipython-input-492-9e88759db7ee>\u001b[0m in \u001b[0;36m<module>\u001b[0;34m\u001b[0m\n\u001b[1;32m      1\u001b[0m \u001b[0mLEARNINGRATE\u001b[0m \u001b[0;34m=\u001b[0m \u001b[0;36m.001\u001b[0m\u001b[0;34m\u001b[0m\u001b[0;34m\u001b[0m\u001b[0m\n\u001b[0;32m----> 2\u001b[0;31m \u001b[0mb\u001b[0m \u001b[0;34m=\u001b[0m \u001b[0mnn3\u001b[0m\u001b[0;34m.\u001b[0m\u001b[0mforward\u001b[0m\u001b[0;34m(\u001b[0m\u001b[0mX_std\u001b[0m\u001b[0;34m)\u001b[0m \u001b[0;34m*\u001b[0m \u001b[0;34m(\u001b[0m\u001b[0;36m1\u001b[0m\u001b[0;34m-\u001b[0m \u001b[0mnn\u001b[0m\u001b[0;34m.\u001b[0m\u001b[0mforward\u001b[0m\u001b[0;34m(\u001b[0m\u001b[0mX_std\u001b[0m\u001b[0;34m)\u001b[0m\u001b[0;34m)\u001b[0m\u001b[0;34m\u001b[0m\u001b[0;34m\u001b[0m\u001b[0m\n\u001b[0m\u001b[1;32m      3\u001b[0m \u001b[0mnn3\u001b[0m\u001b[0;34m.\u001b[0m\u001b[0mtrain\u001b[0m\u001b[0;34m(\u001b[0m\u001b[0mX_std\u001b[0m\u001b[0;34m,\u001b[0m\u001b[0my_train\u001b[0m\u001b[0;34m,\u001b[0m\u001b[0mLEARNINGRATE\u001b[0m\u001b[0;34m)\u001b[0m\u001b[0;34m\u001b[0m\u001b[0;34m\u001b[0m\u001b[0m\n",
      "\u001b[0;31mNameError\u001b[0m: name 'nn' is not defined"
     ]
    }
   ],
   "source": [
    "LEARNINGRATE = .001\n",
    "b = nn3.forward(X_std) * (1- nn.forward(X_std))\n",
    "nn3.train(X_std,y_train,LEARNINGRATE)\n"
   ]
  },
  {
   "cell_type": "code",
   "execution_count": 493,
   "metadata": {},
   "outputs": [
    {
     "data": {
      "text/plain": [
       "0.11764705882352944"
      ]
     },
     "execution_count": 493,
     "metadata": {},
     "output_type": "execute_result"
    }
   ],
   "source": [
    "1- nn3.preidict(test_x,test_y)\n"
   ]
  },
  {
   "cell_type": "code",
   "execution_count": 494,
   "metadata": {},
   "outputs": [
    {
     "data": {
      "text/plain": [
       "((3, 1), (187, 3))"
      ]
     },
     "execution_count": 494,
     "metadata": {},
     "output_type": "execute_result"
    }
   ],
   "source": [
    "mm.output_weights.shape,mm.out2.shape"
   ]
  },
  {
   "cell_type": "code",
   "execution_count": 495,
   "metadata": {},
   "outputs": [],
   "source": [
    "def weight_initial(m,n): # xiviar initial\n",
    "    weights= np.random.randn(m, n) / np.sqrt(m)\n",
    "    bias = np.random.randn(1, n) / np.sqrt(m)\n",
    "    return weights,bias\n",
    "        \n",
    "class MN(object):\n",
    "    def __init__(self,n_feature, n_input,n_hidden, n_output,activation = 'sigmoid'): # 3 matrix\n",
    "        np.random.seed(224)\n",
    "        self.input_weights,self.input_bias = weight_initial(n_feature, n_input) #m x l1\n",
    "        self.hidden_weights,self.hidden_bias = weight_initial(n_input,n_hidden) # l1 x l2\n",
    "        self.output_weights,self.output_bias = weight_initial(n_hidden, n_output) # l2 x l3\n",
    "        self.activation = activation\n",
    "        \n",
    "    def forward(self,inputx):\n",
    "        if self.activation == 'sigmoid':\n",
    "            self.out1 = sigmoid(np.dot(inputx,self.input_weights) + self.input_bias)\n",
    "            self.out2 = sigmoid(np.dot(self.out1,self.hidden_weights) + self.hidden_bias)\n",
    "            self.out3 = sigmoid(np.dot(self.out2,self.output_weights) + self.output_bias)\n",
    "            #print(self.out3)\n",
    "        \n",
    "        if self.activation == 'step':\n",
    "            self.out1 = step(np.dot(inputx,self.input_weights) + self.input_bias)\n",
    "            self.out2 = step(np.dot(self.out1,self.hidden_weights) + self.hidden_bias)\n",
    "            self.out3 = step(np.dot(self.out2,self.output_weights) + self.output_bias)\n",
    "            \n",
    "        if self.activation == 'tanh':\n",
    "            self.out1 = tanh(np.dot(inputx,self.input_weights) + self.input_bias)\n",
    "            self.out2 = tanh(np.dot(self.out1,self.hidden_weights) + self.hidden_bias)\n",
    "            self.out3 = tanh(np.dot(self.out2,self.output_weights) + self.output_bias)\n",
    "            \n",
    "        if self.activation == 'relu':\n",
    "            self.out1 = relu(np.dot(inputx,self.input_weights) + self.input_bias)\n",
    "            self.out2 = relu(np.dot(self.out1,self.hidden_weights) + self.hidden_bias)\n",
    "            self.out3 = relu(np.dot(self.out2,self.output_weights) + self.output_bias)\n",
    "    \n",
    "    def loss(self,X_train,y_train):\n",
    "        self.forward(X_train)\n",
    "        self.error3 = y_train - self.out3\n",
    "        self.error2 = np.mean(self.error3 * self.output_weights.T,axis = 0).reshape(1,-1)\n",
    "        self.error1 = self.error2.dot(self.hidden_weights.T)\n",
    "        return np.mean(self.error3**2)\n",
    "            \n",
    "    def backward(self,inputx, y_train,learnrate):\n",
    "        if self.activation == 'sigmoid':\n",
    "            error3_ = np.mean(self.error3,axis=0)\n",
    "            self.output_weights += learnrate * error3_ * self.out2.T.dot(sigmoid_backward(self.out3))\n",
    "            self.output_bias += np.sum(learnrate * error3_ * sigmoid_backward(self.out3))\n",
    "            \n",
    "            self.hidden_weights += learnrate * (self.error2 * self.out1.T.dot(sigmoid_backward(self.out2)))\n",
    "            self.hidden_bias += np.sum(learnrate * self.error2 * (sigmoid_backward(self.out2)),axis =0)\n",
    "            \n",
    "            self.input_weights += learnrate * self.error1 * inputx.T.dot(sigmoid_backward(self.out1))\n",
    "            self.input_bias += np.sum(learnrate * self.error1 * sigmoid_backward(self.out1),axis = 0)\n",
    "            \n",
    "            \n",
    "        if self.activation == 'tanh':\n",
    "            error3_ = np.mean(self.error3,axis=0)\n",
    "            self.output_weights += learnrate * error3_ * self.out2.T.dot(tanh_backward(self.out3))\n",
    "            self.output_bias += np.sum(learnrate * error3_ * tanh_backward(self.out3))\n",
    "            \n",
    "            self.hidden_weights += learnrate * (self.error2 * self.out1.T.dot(tanh_backward(self.out2)))\n",
    "            self.hidden_bias += np.sum(learnrate * self.error2 * (tanh_backward(self.out2)),axis =0)\n",
    "            \n",
    "            self.input_weights += learnrate * self.error1 * inputx.T.dot(tanh_backward(self.out1))\n",
    "            self.input_bias += np.sum(learnrate * self.error1 * tanh_backward(self.out1),axis = 0)\n",
    "            \n",
    "        \n",
    "        if self.activation == 'relu':\n",
    "            error3_ = np.mean(self.error3,axis=0)\n",
    "            self.output_weights += learnrate * error3_ * self.out2.T.dot(relu_backward(self.out3))\n",
    "            self.output_bias += np.sum(learnrate * error3_ * relu_backward(self.out3))\n",
    "            \n",
    "            self.hidden_weights += learnrate * (self.error2 * self.out1.T.dot(relu_backward(self.out2)))\n",
    "            self.hidden_bias += np.sum(learnrate * self.error2 * (relu_backward(self.out2)),axis =0)\n",
    "            \n",
    "            self.input_weights += learnrate * self.error1 * inputx.T.dot(relu_backward(self.out1))\n",
    "            self.input_bias += np.sum(learnrate * self.error1 * relu_backward(self.out1),axis = 0)\n",
    "            \n",
    "            \n",
    "            \n",
    "       \n",
    "            \n",
    "    def train(self,X_train,y_train,learnrate, iteration = 100):\n",
    "        self.losses = []\n",
    "        for i in range(iteration):\n",
    "            self.loss(X_train,y_train)\n",
    "            self.backward(X_train,y_train,learnrate)\n",
    "            if i % 100 ==0:\n",
    "                self.losses.append(self.loss(X_train,y_train))\n",
    "                print('Epoch: ', str(i) +'| ' +str(iteration), '| train loss: %.4f' % self.losses[-1])\n",
    "                \n",
    "            \n",
    "    def predict(self,X,y):\n",
    "        self.forward(X)\n",
    "        y_pre = step(self.out3)\n",
    "        #print(y_pre)\n",
    "        acc = list(y-y_pre)\n",
    "        print(classification_report(y,y_pre))\n",
    "  "
   ]
  },
  {
   "cell_type": "code",
   "execution_count": 502,
   "metadata": {},
   "outputs": [
    {
     "data": {
      "image/png": "[encoded data removed]",
      "text/plain": [
       "<Figure size 432x288 with 1 Axes>"
      ]
     },
     "metadata": {
      "image/png": {
       "height": 263,
       "width": 406
      },
      "needs_background": "light"
     },
     "output_type": "display_data"
    }
   ],
   "source": [
    "import matplotlib.pyplot as plt\n",
    "labels = ['A', 'B', 'C', 'D']\n",
    "#for i, l_his in enumerate(mm.losses):\n",
    "plt.plot(mm.losses, label=' ')\n",
    "plt.legend(loc='best')\n",
    "plt.xlabel('Steps')\n",
    "plt.ylabel('Loss')\n",
    "plt.ylim((0.25, .2535555))\n",
    "plt.show()\n"
   ]
  },
  {
   "cell_type": "code",
   "execution_count": 503,
   "metadata": {},
   "outputs": [
    {
     "name": "stdout",
     "output_type": "stream",
     "text": [
      "Epoch:  0| 1500 | train loss: 0.2517\n",
      "Epoch:  100| 1500 | train loss: 0.2508\n",
      "Epoch:  200| 1500 | train loss: 0.2507\n",
      "Epoch:  300| 1500 | train loss: 0.2506\n",
      "Epoch:  400| 1500 | train loss: 0.2506\n",
      "Epoch:  500| 1500 | train loss: 0.2506\n",
      "Epoch:  600| 1500 | train loss: 0.2506\n",
      "Epoch:  700| 1500 | train loss: 0.2506\n",
      "Epoch:  800| 1500 | train loss: 0.2506\n",
      "Epoch:  900| 1500 | train loss: 0.2506\n",
      "Epoch:  1000| 1500 | train loss: 0.2506\n",
      "Epoch:  1100| 1500 | train loss: 0.2506\n",
      "Epoch:  1200| 1500 | train loss: 0.2506\n",
      "Epoch:  1300| 1500 | train loss: 0.2506\n",
      "Epoch:  1400| 1500 | train loss: 0.2506\n",
      "0:00:00.358818\n",
      "              precision    recall  f1-score   support\n",
      "\n",
      "           0       0.00      0.00      0.00        15\n",
      "           1       0.92      1.00      0.96       172\n",
      "\n",
      "   micro avg       0.92      0.92      0.92       187\n",
      "   macro avg       0.46      0.50      0.48       187\n",
      "weighted avg       0.85      0.92      0.88       187\n",
      "\n"
     ]
    },
    {
     "name": "stderr",
     "output_type": "stream",
     "text": [
      "/Users/marcowang/anaconda3/lib/python3.6/site-packages/sklearn/metrics/classification.py:1143: UndefinedMetricWarning: Precision and F-score are ill-defined and being set to 0.0 in labels with no predicted samples.\n",
      "  'precision', 'predicted', average, warn_for)\n"
     ]
    }
   ],
   "source": [
    "starttime = datetime.datetime.now()\n",
    "mm = MN(44,1,3,1,activation='sigmoid')\n",
    "mm.train(X_std,y_train,0.001,iteration = 1500)\n",
    "endtime = datetime.datetime.now()\n",
    "print((endtime - starttime))\n",
    "mm.predict(test_x,test_y)"
   ]
  },
  {
   "cell_type": "code",
   "execution_count": 504,
   "metadata": {},
   "outputs": [
    {
     "data": {
      "text/plain": [
       "array([[ 0.49660482],\n",
       "       [ 0.50376067],\n",
       "       [ 0.50518487],\n",
       "       [ 0.50010729],\n",
       "       [ 0.49965505],\n",
       "       [ 0.49362897],\n",
       "       [ 0.49844059],\n",
       "       [ 0.49842739],\n",
       "       [ 0.49713297],\n",
       "       [ 0.50516043],\n",
       "       [ 0.50012258],\n",
       "       [ 0.50005305],\n",
       "       [ 0.50474418],\n",
       "       [ 0.5019647 ],\n",
       "       [ 0.50285126],\n",
       "       [ 0.50245355],\n",
       "       [ 0.50573861],\n",
       "       [ 0.50009349],\n",
       "       [ 0.49889898],\n",
       "       [ 0.50410278],\n",
       "       [ 0.49307165],\n",
       "       [ 0.49908123],\n",
       "       [ 0.49636801],\n",
       "       [ 0.49120732],\n",
       "       [ 0.49272112],\n",
       "       [ 0.50467265],\n",
       "       [ 0.50498522],\n",
       "       [ 0.50597604],\n",
       "       [ 0.50143883],\n",
       "       [ 0.49911126],\n",
       "       [ 0.50083278],\n",
       "       [ 0.50507913],\n",
       "       [ 0.5063136 ],\n",
       "       [ 0.50181139],\n",
       "       [ 0.49646153],\n",
       "       [ 0.50126346],\n",
       "       [ 0.49951149],\n",
       "       [ 0.50510238],\n",
       "       [ 0.49694985],\n",
       "       [ 0.50231317],\n",
       "       [-0.5057105 ],\n",
       "       [-0.50333734],\n",
       "       [-0.49924008],\n",
       "       [-0.4978564 ],\n",
       "       [-0.49691933],\n",
       "       [-0.50129007],\n",
       "       [-0.49776774],\n",
       "       [-0.49911787],\n",
       "       [-0.50148312],\n",
       "       [-0.49599122],\n",
       "       [-0.50247229],\n",
       "       [-0.49931521],\n",
       "       [-0.49537127],\n",
       "       [-0.50305305],\n",
       "       [-0.50496309],\n",
       "       [-0.5000242 ],\n",
       "       [-0.50063617],\n",
       "       [-0.49377401],\n",
       "       [-0.50212372],\n",
       "       [-0.50094447],\n",
       "       [-0.49883887],\n",
       "       [-0.50524954],\n",
       "       [-0.49905631],\n",
       "       [-0.50511066],\n",
       "       [-0.50205031],\n",
       "       [-0.50346077],\n",
       "       [-0.49675921],\n",
       "       [-0.50207944],\n",
       "       [-0.49515079],\n",
       "       [-0.50398913],\n",
       "       [-0.49764361],\n",
       "       [-0.50129259],\n",
       "       [-0.5043929 ],\n",
       "       [-0.49826669],\n",
       "       [-0.49608374],\n",
       "       [-0.50114938],\n",
       "       [-0.50629214],\n",
       "       [-0.50119105],\n",
       "       [-0.50285481],\n",
       "       [-0.50109832]])"
      ]
     },
     "execution_count": 504,
     "metadata": {},
     "output_type": "execute_result"
    }
   ],
   "source": [
    "mm.error3\n",
    "\n"
   ]
  },
  {
   "cell_type": "code",
   "execution_count": 505,
   "metadata": {},
   "outputs": [
    {
     "data": {
      "text/plain": [
       "((3, 1), (3, 187))"
      ]
     },
     "execution_count": 505,
     "metadata": {},
     "output_type": "execute_result"
    }
   ],
   "source": [
    "mm.output_weights.shape,mm.out2.T.shape,"
   ]
  },
  {
   "cell_type": "markdown",
   "metadata": {},
   "source": [
    "## Stucture"
   ]
  },
  {
   "cell_type": "markdown",
   "metadata": {},
   "source": [
    "## Torch"
   ]
  },
  {
   "cell_type": "code",
   "execution_count": 507,
   "metadata": {},
   "outputs": [],
   "source": [
    "\n",
    "\n",
    "import torch\n",
    "import pandas as pd\n",
    "%matplotlib inline\n",
    "%config InlineBackend.figure_format = 'retina'\n"
   ]
  },
  {
   "cell_type": "code",
   "execution_count": 508,
   "metadata": {},
   "outputs": [
    {
     "name": "stdout",
     "output_type": "stream",
     "text": [
      "Net(\n",
      "  (hidden): Linear(in_features=44, out_features=1000, bias=True)\n",
      "  (out): Linear(in_features=1000, out_features=2, bias=True)\n",
      ")\n"
     ]
    }
   ],
   "source": [
    "import torch.nn.functional as F\n",
    "\n",
    "class Net(torch.nn.Module):     # 继承 torch 的 Module\n",
    "    def __init__(self, n_feature, n_hidden, n_output): # 45in \n",
    "        super(Net, self).__init__()     # 继承 __init__ 功能\n",
    "        self.hidden = torch.nn.Linear(n_feature, n_hidden)   # 隐藏层线性输出\n",
    "        self.out = torch.nn.Linear(n_hidden, n_output)       # 输出层线性输出\n",
    "\n",
    "    def forward(self, x):\n",
    "        # 正向传播输入值, 神经网络分析出输出值\n",
    "        x = F.relu(self.hidden(x))      # 激励函数(隐藏层的线性值)\n",
    "        x = self.out(x)                 # 输出值, 但是这个不是预测值, 预测值还需要再另外计算\n",
    "        return x\n",
    "\n",
    "net = Net(n_feature=44, n_hidden=1000, n_output=2) # 几个类别就几个 output\n",
    "print(net)"
   ]
  },
  {
   "cell_type": "code",
   "execution_count": 509,
   "metadata": {},
   "outputs": [
    {
     "name": "stdout",
     "output_type": "stream",
     "text": [
      "Sequential(\n",
      "  (0): Linear(in_features=44, out_features=1, bias=True)\n",
      "  (1): Dropout(p=0.5)\n",
      "  (2): Sigmoid()\n",
      "  (3): Linear(in_features=1, out_features=3, bias=True)\n",
      "  (4): Dropout(p=0.5)\n",
      "  (5): Sigmoid()\n",
      "  (6): Linear(in_features=3, out_features=2, bias=True)\n",
      ")\n"
     ]
    },
    {
     "name": "stderr",
     "output_type": "stream",
     "text": [
      "/Users/marcowang/anaconda3/lib/python3.6/site-packages/sklearn/utils/validation.py:595: DataConversionWarning: Data with input dtype int64 was converted to float64 by StandardScaler.\n",
      "  warnings.warn(msg, DataConversionWarning)\n",
      "/Users/marcowang/anaconda3/lib/python3.6/site-packages/sklearn/utils/validation.py:595: DataConversionWarning: Data with input dtype int64 was converted to float64 by StandardScaler.\n",
      "  warnings.warn(msg, DataConversionWarning)\n"
     ]
    }
   ],
   "source": [
    "import torch.utils.data as Data\n",
    "tensor_data = torch.from_numpy(X_std)\n",
    "tensor_data = tensor_data.float()\n",
    "tensor_target = torch.from_numpy(y_train)\n",
    "\n",
    "test_x = scaler.fit_transform(test_x)\n",
    "test_x = torch.from_numpy(test_x)\n",
    "test_x = test_x.float()\n",
    "\n",
    "\n",
    "torch_dataset = Data.TensorDataset(tensor_data, tensor_target)\n",
    "loader = Data.DataLoader(\n",
    "    dataset=torch_dataset,      # torch TensorDataset format\n",
    "    batch_size=BATCH_SIZE,      # mini batch size\n",
    "    shuffle=True,               # 要不要打乱数据 (打乱比较好)   \n",
    ")\n",
    "\n",
    "\n",
    "net2 = torch.nn.Sequential(\n",
    "    torch.nn.Linear(44, 1),\n",
    "    torch.nn.Dropout(0.5),\n",
    "    torch.nn.Sigmoid(),\n",
    "    torch.nn.Linear(1, 3),\n",
    "    torch.nn.Dropout(0.5),\n",
    "    torch.nn.Sigmoid(),\n",
    "    torch.nn.Linear(3, 2),\n",
    ")\n",
    "print(net2)\n"
   ]
  },
  {
   "cell_type": "code",
   "execution_count": 510,
   "metadata": {},
   "outputs": [
    {
     "ename": "RuntimeError",
     "evalue": "multi-target not supported at /Users/soumith/mc3build/conda-bld/pytorch_1549593514549/work/aten/src/THNN/generic/ClassNLLCriterion.c:21",
     "output_type": "error",
     "traceback": [
      "\u001b[0;31m---------------------------------------------------------------------------\u001b[0m",
      "\u001b[0;31mRuntimeError\u001b[0m                              Traceback (most recent call last)",
      "\u001b[0;32m<ipython-input-510-aa41fe318df7>\u001b[0m in \u001b[0;36m<module>\u001b[0;34m\u001b[0m\n\u001b[1;32m     11\u001b[0m     \u001b[0;32mfor\u001b[0m \u001b[0mstep\u001b[0m\u001b[0;34m,\u001b[0m \u001b[0;34m(\u001b[0m\u001b[0mbatch_x\u001b[0m\u001b[0;34m,\u001b[0m \u001b[0mbatch_y\u001b[0m\u001b[0;34m)\u001b[0m \u001b[0;32min\u001b[0m \u001b[0menumerate\u001b[0m\u001b[0;34m(\u001b[0m\u001b[0mloader\u001b[0m\u001b[0;34m)\u001b[0m\u001b[0;34m:\u001b[0m\u001b[0;34m\u001b[0m\u001b[0;34m\u001b[0m\u001b[0m\n\u001b[1;32m     12\u001b[0m         \u001b[0moutput\u001b[0m \u001b[0;34m=\u001b[0m \u001b[0mnet2\u001b[0m\u001b[0;34m(\u001b[0m\u001b[0mbatch_x\u001b[0m\u001b[0;34m)\u001b[0m               \u001b[0;31m#  output\u001b[0m\u001b[0;34m\u001b[0m\u001b[0;34m\u001b[0m\u001b[0m\n\u001b[0;32m---> 13\u001b[0;31m         \u001b[0mloss\u001b[0m \u001b[0;34m=\u001b[0m \u001b[0mloss_func\u001b[0m\u001b[0;34m(\u001b[0m\u001b[0moutput\u001b[0m\u001b[0;34m,\u001b[0m \u001b[0mbatch_y\u001b[0m\u001b[0;34m)\u001b[0m   \u001b[0;31m# cross entropy loss\u001b[0m\u001b[0;34m\u001b[0m\u001b[0;34m\u001b[0m\u001b[0m\n\u001b[0m\u001b[1;32m     14\u001b[0m         \u001b[0moptimizer\u001b[0m\u001b[0;34m.\u001b[0m\u001b[0mzero_grad\u001b[0m\u001b[0;34m(\u001b[0m\u001b[0;34m)\u001b[0m           \u001b[0;31m# clear gradients for this training step\u001b[0m\u001b[0;34m\u001b[0m\u001b[0;34m\u001b[0m\u001b[0m\n\u001b[1;32m     15\u001b[0m         \u001b[0mloss\u001b[0m\u001b[0;34m.\u001b[0m\u001b[0mbackward\u001b[0m\u001b[0;34m(\u001b[0m\u001b[0;34m)\u001b[0m                 \u001b[0;31m# backpropagation, compute gradients\u001b[0m\u001b[0;34m\u001b[0m\u001b[0;34m\u001b[0m\u001b[0m\n",
      "\u001b[0;32m~/anaconda3/lib/python3.6/site-packages/torch/nn/modules/module.py\u001b[0m in \u001b[0;36m__call__\u001b[0;34m(self, *input, **kwargs)\u001b[0m\n\u001b[1;32m    487\u001b[0m             \u001b[0mresult\u001b[0m \u001b[0;34m=\u001b[0m \u001b[0mself\u001b[0m\u001b[0;34m.\u001b[0m\u001b[0m_slow_forward\u001b[0m\u001b[0;34m(\u001b[0m\u001b[0;34m*\u001b[0m\u001b[0minput\u001b[0m\u001b[0;34m,\u001b[0m \u001b[0;34m**\u001b[0m\u001b[0mkwargs\u001b[0m\u001b[0;34m)\u001b[0m\u001b[0;34m\u001b[0m\u001b[0;34m\u001b[0m\u001b[0m\n\u001b[1;32m    488\u001b[0m         \u001b[0;32melse\u001b[0m\u001b[0;34m:\u001b[0m\u001b[0;34m\u001b[0m\u001b[0;34m\u001b[0m\u001b[0m\n\u001b[0;32m--> 489\u001b[0;31m             \u001b[0mresult\u001b[0m \u001b[0;34m=\u001b[0m \u001b[0mself\u001b[0m\u001b[0;34m.\u001b[0m\u001b[0mforward\u001b[0m\u001b[0;34m(\u001b[0m\u001b[0;34m*\u001b[0m\u001b[0minput\u001b[0m\u001b[0;34m,\u001b[0m \u001b[0;34m**\u001b[0m\u001b[0mkwargs\u001b[0m\u001b[0;34m)\u001b[0m\u001b[0;34m\u001b[0m\u001b[0;34m\u001b[0m\u001b[0m\n\u001b[0m\u001b[1;32m    490\u001b[0m         \u001b[0;32mfor\u001b[0m \u001b[0mhook\u001b[0m \u001b[0;32min\u001b[0m \u001b[0mself\u001b[0m\u001b[0;34m.\u001b[0m\u001b[0m_forward_hooks\u001b[0m\u001b[0;34m.\u001b[0m\u001b[0mvalues\u001b[0m\u001b[0;34m(\u001b[0m\u001b[0;34m)\u001b[0m\u001b[0;34m:\u001b[0m\u001b[0;34m\u001b[0m\u001b[0;34m\u001b[0m\u001b[0m\n\u001b[1;32m    491\u001b[0m             \u001b[0mhook_result\u001b[0m \u001b[0;34m=\u001b[0m \u001b[0mhook\u001b[0m\u001b[0;34m(\u001b[0m\u001b[0mself\u001b[0m\u001b[0;34m,\u001b[0m \u001b[0minput\u001b[0m\u001b[0;34m,\u001b[0m \u001b[0mresult\u001b[0m\u001b[0;34m)\u001b[0m\u001b[0;34m\u001b[0m\u001b[0;34m\u001b[0m\u001b[0m\n",
      "\u001b[0;32m~/anaconda3/lib/python3.6/site-packages/torch/nn/modules/loss.py\u001b[0m in \u001b[0;36mforward\u001b[0;34m(self, input, target)\u001b[0m\n\u001b[1;32m    902\u001b[0m     \u001b[0;32mdef\u001b[0m \u001b[0mforward\u001b[0m\u001b[0;34m(\u001b[0m\u001b[0mself\u001b[0m\u001b[0;34m,\u001b[0m \u001b[0minput\u001b[0m\u001b[0;34m,\u001b[0m \u001b[0mtarget\u001b[0m\u001b[0;34m)\u001b[0m\u001b[0;34m:\u001b[0m\u001b[0;34m\u001b[0m\u001b[0;34m\u001b[0m\u001b[0m\n\u001b[1;32m    903\u001b[0m         return F.cross_entropy(input, target, weight=self.weight,\n\u001b[0;32m--> 904\u001b[0;31m                                ignore_index=self.ignore_index, reduction=self.reduction)\n\u001b[0m\u001b[1;32m    905\u001b[0m \u001b[0;34m\u001b[0m\u001b[0m\n\u001b[1;32m    906\u001b[0m \u001b[0;34m\u001b[0m\u001b[0m\n",
      "\u001b[0;32m~/anaconda3/lib/python3.6/site-packages/torch/nn/functional.py\u001b[0m in \u001b[0;36mcross_entropy\u001b[0;34m(input, target, weight, size_average, ignore_index, reduce, reduction)\u001b[0m\n\u001b[1;32m   1968\u001b[0m     \u001b[0;32mif\u001b[0m \u001b[0msize_average\u001b[0m \u001b[0;32mis\u001b[0m \u001b[0;32mnot\u001b[0m \u001b[0;32mNone\u001b[0m \u001b[0;32mor\u001b[0m \u001b[0mreduce\u001b[0m \u001b[0;32mis\u001b[0m \u001b[0;32mnot\u001b[0m \u001b[0;32mNone\u001b[0m\u001b[0;34m:\u001b[0m\u001b[0;34m\u001b[0m\u001b[0;34m\u001b[0m\u001b[0m\n\u001b[1;32m   1969\u001b[0m         \u001b[0mreduction\u001b[0m \u001b[0;34m=\u001b[0m \u001b[0m_Reduction\u001b[0m\u001b[0;34m.\u001b[0m\u001b[0mlegacy_get_string\u001b[0m\u001b[0;34m(\u001b[0m\u001b[0msize_average\u001b[0m\u001b[0;34m,\u001b[0m \u001b[0mreduce\u001b[0m\u001b[0;34m)\u001b[0m\u001b[0;34m\u001b[0m\u001b[0;34m\u001b[0m\u001b[0m\n\u001b[0;32m-> 1970\u001b[0;31m     \u001b[0;32mreturn\u001b[0m \u001b[0mnll_loss\u001b[0m\u001b[0;34m(\u001b[0m\u001b[0mlog_softmax\u001b[0m\u001b[0;34m(\u001b[0m\u001b[0minput\u001b[0m\u001b[0;34m,\u001b[0m \u001b[0;36m1\u001b[0m\u001b[0;34m)\u001b[0m\u001b[0;34m,\u001b[0m \u001b[0mtarget\u001b[0m\u001b[0;34m,\u001b[0m \u001b[0mweight\u001b[0m\u001b[0;34m,\u001b[0m \u001b[0;32mNone\u001b[0m\u001b[0;34m,\u001b[0m \u001b[0mignore_index\u001b[0m\u001b[0;34m,\u001b[0m \u001b[0;32mNone\u001b[0m\u001b[0;34m,\u001b[0m \u001b[0mreduction\u001b[0m\u001b[0;34m)\u001b[0m\u001b[0;34m\u001b[0m\u001b[0;34m\u001b[0m\u001b[0m\n\u001b[0m\u001b[1;32m   1971\u001b[0m \u001b[0;34m\u001b[0m\u001b[0m\n\u001b[1;32m   1972\u001b[0m \u001b[0;34m\u001b[0m\u001b[0m\n",
      "\u001b[0;32m~/anaconda3/lib/python3.6/site-packages/torch/nn/functional.py\u001b[0m in \u001b[0;36mnll_loss\u001b[0;34m(input, target, weight, size_average, ignore_index, reduce, reduction)\u001b[0m\n\u001b[1;32m   1788\u001b[0m                          .format(input.size(0), target.size(0)))\n\u001b[1;32m   1789\u001b[0m     \u001b[0;32mif\u001b[0m \u001b[0mdim\u001b[0m \u001b[0;34m==\u001b[0m \u001b[0;36m2\u001b[0m\u001b[0;34m:\u001b[0m\u001b[0;34m\u001b[0m\u001b[0;34m\u001b[0m\u001b[0m\n\u001b[0;32m-> 1790\u001b[0;31m         \u001b[0mret\u001b[0m \u001b[0;34m=\u001b[0m \u001b[0mtorch\u001b[0m\u001b[0;34m.\u001b[0m\u001b[0m_C\u001b[0m\u001b[0;34m.\u001b[0m\u001b[0m_nn\u001b[0m\u001b[0;34m.\u001b[0m\u001b[0mnll_loss\u001b[0m\u001b[0;34m(\u001b[0m\u001b[0minput\u001b[0m\u001b[0;34m,\u001b[0m \u001b[0mtarget\u001b[0m\u001b[0;34m,\u001b[0m \u001b[0mweight\u001b[0m\u001b[0;34m,\u001b[0m \u001b[0m_Reduction\u001b[0m\u001b[0;34m.\u001b[0m\u001b[0mget_enum\u001b[0m\u001b[0;34m(\u001b[0m\u001b[0mreduction\u001b[0m\u001b[0;34m)\u001b[0m\u001b[0;34m,\u001b[0m \u001b[0mignore_index\u001b[0m\u001b[0;34m)\u001b[0m\u001b[0;34m\u001b[0m\u001b[0;34m\u001b[0m\u001b[0m\n\u001b[0m\u001b[1;32m   1791\u001b[0m     \u001b[0;32melif\u001b[0m \u001b[0mdim\u001b[0m \u001b[0;34m==\u001b[0m \u001b[0;36m4\u001b[0m\u001b[0;34m:\u001b[0m\u001b[0;34m\u001b[0m\u001b[0;34m\u001b[0m\u001b[0m\n\u001b[1;32m   1792\u001b[0m         \u001b[0mret\u001b[0m \u001b[0;34m=\u001b[0m \u001b[0mtorch\u001b[0m\u001b[0;34m.\u001b[0m\u001b[0m_C\u001b[0m\u001b[0;34m.\u001b[0m\u001b[0m_nn\u001b[0m\u001b[0;34m.\u001b[0m\u001b[0mnll_loss2d\u001b[0m\u001b[0;34m(\u001b[0m\u001b[0minput\u001b[0m\u001b[0;34m,\u001b[0m \u001b[0mtarget\u001b[0m\u001b[0;34m,\u001b[0m \u001b[0mweight\u001b[0m\u001b[0;34m,\u001b[0m \u001b[0m_Reduction\u001b[0m\u001b[0;34m.\u001b[0m\u001b[0mget_enum\u001b[0m\u001b[0;34m(\u001b[0m\u001b[0mreduction\u001b[0m\u001b[0;34m)\u001b[0m\u001b[0;34m,\u001b[0m \u001b[0mignore_index\u001b[0m\u001b[0;34m)\u001b[0m\u001b[0;34m\u001b[0m\u001b[0;34m\u001b[0m\u001b[0m\n",
      "\u001b[0;31mRuntimeError\u001b[0m: multi-target not supported at /Users/soumith/mc3build/conda-bld/pytorch_1549593514549/work/aten/src/THNN/generic/ClassNLLCriterion.c:21"
     ]
    }
   ],
   "source": [
    "# Hyper Parameters\n",
    "EPOCH = 1500          #\n",
    "BATCH_SIZE = 80     # whole dataset\n",
    "LR = 0.001         # learning rate\n",
    "\n",
    "optimizer = torch.optim.SGD(net2.parameters(), lr=LR)\n",
    "\n",
    "loss_func = torch.nn.CrossEntropyLoss()\n",
    "\n",
    "for epoch in range(EPOCH):   # 训练所有!整套!数据 50000次\n",
    "    for step, (batch_x, batch_y) in enumerate(loader):\n",
    "        output = net2(batch_x)               #  output\n",
    "        loss = loss_func(output, batch_y)   # cross entropy loss\n",
    "        optimizer.zero_grad()           # clear gradients for this training step\n",
    "        loss.backward()                 # backpropagation, compute gradients\n",
    "        optimizer.step()                # apply gradients\n",
    "    if epoch % 100 == 0:\n",
    "        test_output = net2(test_x)                   # (samples, time_step, input_size)\n",
    "        pred_y = torch.max(test_output, 1)[1].data.numpy()\n",
    "        accuracy = float((pred_y == test_y).astype(int).sum()) / float(test_y.size)\n",
    "        print('Epoch: ', epoch, '| train loss: %.4f' % loss.data.numpy(), '| test accuracy: %.2f' % accuracy)"
   ]
  },
  {
   "cell_type": "code",
   "execution_count": null,
   "metadata": {},
   "outputs": [],
   "source": []
  },
  {
   "cell_type": "code",
   "execution_count": 80,
   "metadata": {},
   "outputs": [],
   "source": [
    "# Activation (sigmoid) function\n",
    "def sigmoid(x):\n",
    "    return 1 / (1 + np.exp(-x))\n",
    "def sigmoid_prime(x):\n",
    "    return sigmoid(x) * (1-sigmoid(x))\n",
    "def error_formula(y, output):\n",
    "    return - y*np.log(output) - (1 - y) * np.log(1-output)\n",
    "def error_term_formula(x, y, output):\n",
    "    return (y - output)*sigmoid_prime(x)"
   ]
  },
  {
   "cell_type": "code",
   "execution_count": null,
   "metadata": {},
   "outputs": [],
   "source": [
    "# Neural Network hyperparameters\n",
    "epochs = 1000\n",
    "learnrate = 0.5\n",
    "\n",
    "# Training function\n",
    "def train_nn(features, targets, epochs, learnrate):\n",
    "    \n",
    "    # Use to same seed to make debugging easier\n",
    "    np.random.seed(42)\n",
    "\n",
    "    n_records, n_features = features.shape\n",
    "    last_loss = None\n",
    "\n",
    "    # Initialize weights\n",
    "    weights = np.random.normal(scale=1 / n_features**.5, size=n_features)\n",
    "\n",
    "    for e in range(epochs):\n",
    "        del_w = np.zeros(weights.shape)\n",
    "        for x, y in zip(features.values, targets):\n",
    "            # Loop through all records, x is the input, y is the target\n",
    "\n",
    "            # Activation of the output unit\n",
    "            #   Notice we multiply the inputs and the weights here \n",
    "            #   rather than storing h as a separate variable \n",
    "            output = sigmoid(np.dot(x, weights))\n",
    "\n",
    "            # The error, the target minus the network output\n",
    "            error = error_formula(y, output)\n",
    "\n",
    "            # The error term\n",
    "            error_term = error_term_formula(x, y, output)\n",
    "\n",
    "            # The gradient descent step, the error times the gradient times the inputs\n",
    "            del_w += error_term * x\n",
    "\n",
    "        # Update the weights here. The learning rate times the \n",
    "        # change in weights, divided by the number of records to average\n",
    "        weights += learnrate * del_w / n_records\n",
    "\n",
    "        # Printing out the mean square error on the training set\n",
    "        if e % (epochs / 10) == 0:\n",
    "            out = sigmoid(np.dot(features, weights))\n",
    "            loss = np.mean((out - targets) ** 2)\n",
    "            print(\"Epoch:\", e)\n",
    "            if last_loss and last_loss < loss:\n",
    "                print(\"Train loss: \", loss, \"  WARNING - Loss Increasing\")\n",
    "            else:\n",
    "                print(\"Train loss: \", loss)\n",
    "            last_loss = loss\n",
    "            print(\"=========\")\n",
    "    print(\"Finished training!\")\n",
    "    return weights\n",
    "    \n",
    "#weights = train_nn(features, targets, epochs, learnrate)"
   ]
  },
  {
   "cell_type": "code",
   "execution_count": null,
   "metadata": {},
   "outputs": [],
   "source": [
    "# Calculate accuracy on test data\n",
    "test_out = sigmoid(np.dot(features_test, weights))\n",
    "predictions = test_out > 0.5\n",
    "accuracy = np.mean(predictions == targets_test)\n",
    "print(\"Prediction accuracy: {:.3f}\".format(accuracy))"
   ]
  }
 ],
 "metadata": {
  "kernelspec": {
   "display_name": "Python 3",
   "language": "python",
   "name": "python3"
  },
  "language_info": {
   "codemirror_mode": {
    "name": "ipython",
    "version": 3
   },
   "file_extension": ".py",
   "mimetype": "text/x-python",
   "name": "python",
   "nbconvert_exporter": "python",
   "pygments_lexer": "ipython3",
   "version": "3.6.8"
  }
 },
 "nbformat": 4,
 "nbformat_minor": 2
}
