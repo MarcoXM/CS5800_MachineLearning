{
 "cells": [
  {
   "cell_type": "code",
   "execution_count": 2,
   "metadata": {},
   "outputs": [],
   "source": [
    "#Q1\n",
    "def threshClassify(input_listdata, xthresh):\n",
    "    answer = [1 if height > xthresh else 0 for height in input_listdata]\n",
    "    return answer"
   ]
  },
  {
   "cell_type": "code",
   "execution_count": 21,
   "metadata": {},
   "outputs": [],
   "source": [
    "#Q2\n",
    "def findAccuracy(classifierOutput, trueLabels):\n",
    "    answer = [x-y for x,y in zip(classifierOutput,trueLabels)].count(0)/len(classifierOutput)\n",
    "    return answer"
   ]
  },
  {
   "cell_type": "code",
   "execution_count": 46,
   "metadata": {},
   "outputs": [],
   "source": [
    "#Q3\n",
    "def getTraining(fulldata):\n",
    "    x,y = fulldata\n",
    "    length = int(len(x)/3)\n",
    "    return [x[:length],\n",
    "            y[:length]]"
   ]
  },
  {
   "cell_type": "code",
   "execution_count": 47,
   "metadata": {},
   "outputs": [],
   "source": [
    "a =[0, 0, 0, 1, 1, 1, 1, 1, 0, 1, 1]\n",
    "b = [0, 0, 1, 1, 1, 0, 1, 1, 0, 1, 1]"
   ]
  }
 ],
 "metadata": {
  "kernelspec": {
   "display_name": "Python 3",
   "language": "python",
   "name": "python3"
  },
  "language_info": {
   "codemirror_mode": {
    "name": "ipython",
    "version": 3
   },
   "file_extension": ".py",
   "mimetype": "text/x-python",
   "name": "python",
   "nbconvert_exporter": "python",
   "pygments_lexer": "ipython3",
   "version": "3.6.5"
  }
 },
 "nbformat": 4,
 "nbformat_minor": 2
}
