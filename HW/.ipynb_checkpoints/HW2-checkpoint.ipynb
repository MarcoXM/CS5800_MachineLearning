{
 "cells": [
  {
   "cell_type": "code",
   "execution_count": 1,
   "metadata": {},
   "outputs": [
    {
     "data": {
      "text/plain": [
       "b'MATLAB 5.0 MAT-file, Platform: GLNXA64, Created on: Mon Feb 18 21:22:28 2019'"
      ]
     },
     "execution_count": 1,
     "metadata": {},
     "output_type": "execute_result"
    }
   ],
   "source": [
    "import matplotlib.pyplot as plt\n",
    "import scipy.io as scio\n",
    "import numpy as np\n",
    " \n",
    "dataFile = 'hw2data.mat'\n",
    "df = scio.loadmat(dataFile)\n",
    "df['__header__']"
   ]
  },
  {
   "cell_type": "code",
   "execution_count": 2,
   "metadata": {},
   "outputs": [
    {
     "data": {
      "text/plain": [
       "dict_keys(['__header__', '__version__', '__globals__', 'data', 'eps', 'data3', 'alphas3', 'B3', 'suppVec3'])"
      ]
     },
     "execution_count": 2,
     "metadata": {},
     "output_type": "execute_result"
    }
   ],
   "source": [
    "df.keys()"
   ]
  },
  {
   "cell_type": "code",
   "execution_count": 3,
   "metadata": {},
   "outputs": [],
   "source": [
    "data3 = df['data3']\n",
    "data = df['data']\n",
    "suppVec3 = df['suppVec3']\n",
    "alpha3 = df['alphas3']\n",
    "B3 = df['B3']"
   ]
  },
  {
   "cell_type": "code",
   "execution_count": 4,
   "metadata": {},
   "outputs": [],
   "source": [
    "#Q1\n",
    "def kernelClassify(dataPt, suppVecs, alphas, b):\n",
    "    sum=0\n",
    "    for i in range(len(suppVecs)):\n",
    "        sum+=alphas[i]*suppVecs[i][-1]*np.dot(np.absolute(dataPt),np.absolute(suppVecs[i][:-1]))\n",
    "        \n",
    "    sum=sum+b\n",
    "    if sum>=1:\n",
    "        result=1\n",
    "    elif sum<-1:\n",
    "        result=-1\n",
    "    else:\n",
    "        result=0\n",
    "    return(result)\n",
    "\n",
    "#Q2\n",
    "def Prediction(data1, suppVecs, alphas, b):\n",
    "    temp = 0\n",
    "    for i in range(len(data1)):\n",
    "        Class = kernelClassify(data1[i][:-1], suppVecs, alphas, b)\n",
    "        if Class == data1[i][-1]:\n",
    "            temp += 1\n",
    "    return temp/len(data1)"
   ]
  },
  {
   "cell_type": "code",
   "execution_count": 5,
   "metadata": {},
   "outputs": [
    {
     "name": "stdout",
     "output_type": "stream",
     "text": [
      "0.9573643410852714\n",
      "0.5363128491620112\n"
     ]
    }
   ],
   "source": [
    "print(Prediction(data3,suppVec3,alpha3,B3))\n",
    "print(Prediction(suppVec3,suppVec3,alpha3,B3))\n",
    "# the percentage is  0.9573643410852714\n",
    "\n",
    "# the percentage is  0.9573643410852714\n"
   ]
  },
  {
   "cell_type": "code",
   "execution_count": 6,
   "metadata": {},
   "outputs": [],
   "source": [
    "#Q3 Method2\n",
    "def learnW(dataTrain, iters):\n",
    "    import pandas as pd\n",
    "    w = np.zeros_like(dataTrain[0])\n",
    "    dataframe = pd.DataFrame(data = dataTrain)\n",
    "    data_m1 = dataframe[dataframe[6] == -1]\n",
    "    data_p1 = dataframe[dataframe[6] == 1]\n",
    "    data_m1[6] = 1.0\n",
    "    data_p1[6] = 1.0\n",
    "    Xm = data_m1.values\n",
    "    Xp = data_p1.values\n",
    "    lamd = .1\n",
    "    e_ = .001\n",
    "    loss = 0.0\n",
    "    for i in range(iters):\n",
    "        #print(i)\n",
    "        loss = w.dot(w) + lamd * np.sum(-(Xp.dot(w))+1) + lamd * np.sum((Xm.dot(w))+1)\n",
    "        #print(loss)\n",
    "        w = w - ((lamd * Xp).sum(axis = 0)*-1 + ((lamd * Xm).sum(axis = 0)) + 2 * w) * e_\n",
    "        #print(w)\n",
    "    return w\n",
    "    "
   ]
  },
  {
   "cell_type": "code",
   "execution_count": 7,
   "metadata": {},
   "outputs": [
    {
     "name": "stderr",
     "output_type": "stream",
     "text": [
      "/Users/marcowang/anaconda3/lib/python3.6/site-packages/ipykernel_launcher.py:8: SettingWithCopyWarning: \n",
      "A value is trying to be set on a copy of a slice from a DataFrame.\n",
      "Try using .loc[row_indexer,col_indexer] = value instead\n",
      "\n",
      "See the caveats in the documentation: http://pandas.pydata.org/pandas-docs/stable/indexing.html#indexing-view-versus-copy\n",
      "  \n",
      "/Users/marcowang/anaconda3/lib/python3.6/site-packages/ipykernel_launcher.py:9: SettingWithCopyWarning: \n",
      "A value is trying to be set on a copy of a slice from a DataFrame.\n",
      "Try using .loc[row_indexer,col_indexer] = value instead\n",
      "\n",
      "See the caveats in the documentation: http://pandas.pydata.org/pandas-docs/stable/indexing.html#indexing-view-versus-copy\n",
      "  if __name__ == '__main__':\n"
     ]
    },
    {
     "data": {
      "text/plain": [
       "array([2.47740651, 4.20975911, 3.86875179, 3.92391349, 7.36264974,\n",
       "       1.57502617, 3.20026127])"
      ]
     },
     "execution_count": 7,
     "metadata": {},
     "output_type": "execute_result"
    }
   ],
   "source": [
    "learnW(data3, iters=1000)"
   ]
  },
  {
   "cell_type": "code",
   "execution_count": 8,
   "metadata": {},
   "outputs": [],
   "source": [
    "# w is array([2.47740651, 4.20975911, 3.86875179, 3.92391349, 7.36264974, 1.57502617, 3.20026127]) for 5000 times iterations"
   ]
  },
  {
   "cell_type": "code",
   "execution_count": 9,
   "metadata": {},
   "outputs": [],
   "source": [
    "#Q4\n",
    "def learnWlam(dataTrain, wInit, lamInit, iters):\n",
    "    w = wInit\n",
    "    y = dataTrain[:,-1]\n",
    "    X = dataTrain[:,:-1]\n",
    "    e_ = .001\n",
    "    loss = 0.0\n",
    "    for iter_ in range(iters):\n",
    "        dW = np.zeros(7)\n",
    "        for i in range(dataTrain.shape[0]):\n",
    "            dW += -(lamInit[i] * np.append(X[i],1.0) * float(y[i]))\n",
    "    \n",
    "            #print(y[i])\n",
    "        for i in range(dataTrain.shape[0]): \n",
    "            lamInit[i] = lamInit[i] + e_ * (-(np.append(X[i],1.0).dot(w)) * float(y[i]) + 1.0)\n",
    "            \n",
    "            if lamInit[i] <0:\n",
    "                lamInit[i] = 0\n",
    "        # Updata W\n",
    "        w = w - (2 * w + dW)*e_\n",
    "    lambdaFin = lamInit.copy()\n",
    "    wFin = w\n",
    "    return {'wFin': wFin, 'lambdaFin': lambdaFin }\n",
    "    "
   ]
  },
  {
   "cell_type": "code",
   "execution_count": 10,
   "metadata": {},
   "outputs": [],
   "source": [
    "# Q5\n",
    "def Q5(data):\n",
    "    wInit=np.array([0,0,0,0,0,0,0])\n",
    "    lamInit=np.array([])\n",
    "    for i in range(len(data)):\n",
    "        lamInit=np.append(lamInit,0.01) \n",
    "    param = learnWlam(data, wInit, lamInit, iters = 5000)\n",
    "    w = param['wFin']\n",
    "    X, Y = data[:,:(int(data.shape[1])-1)] ,data[:,-1]\n",
    "    y_values = [w.dot(np.append(i,1))for i in X]\n",
    "    y_pred = []\n",
    "    for i in y_values:\n",
    "        if i >= 0:\n",
    "            label = 1.0\n",
    "        elif i <0 :\n",
    "            label = -1.0\n",
    "        else:\n",
    "            label = 0.\n",
    "        y_pred.append(label)\n",
    "    temp = 0\n",
    "    for j in range(len(y_pred)):\n",
    "        if y_pred[j] == Y[j]:\n",
    "            temp += 1\n",
    "    return temp/len(Y)"
   ]
  },
  {
   "cell_type": "code",
   "execution_count": 11,
   "metadata": {},
   "outputs": [
    {
     "data": {
      "text/plain": [
       "1.0"
      ]
     },
     "execution_count": 11,
     "metadata": {},
     "output_type": "execute_result"
    }
   ],
   "source": [
    "Q5(data)\n",
    "# The accurracy is 1.0!!!"
   ]
  },
  {
   "cell_type": "code",
   "execution_count": null,
   "metadata": {},
   "outputs": [],
   "source": []
  }
 ],
 "metadata": {
  "kernelspec": {
   "display_name": "Python 3",
   "language": "python",
   "name": "python3"
  },
  "language_info": {
   "codemirror_mode": {
    "name": "ipython",
    "version": 3
   },
   "file_extension": ".py",
   "mimetype": "text/x-python",
   "name": "python",
   "nbconvert_exporter": "python",
   "pygments_lexer": "ipython3",
   "version": "3.6.8"
  }
 },
 "nbformat": 4,
 "nbformat_minor": 2
}
